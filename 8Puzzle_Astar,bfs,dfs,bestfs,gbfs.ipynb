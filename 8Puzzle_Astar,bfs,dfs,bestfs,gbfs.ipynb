{
  "nbformat": 4,
  "nbformat_minor": 0,
  "metadata": {
    "kernelspec": {
      "display_name": "Python 3",
      "language": "python",
      "name": "python3"
    },
    "language_info": {
      "codemirror_mode": {
        "name": "ipython",
        "version": 3
      },
      "file_extension": ".py",
      "mimetype": "text/x-python",
      "name": "python",
      "nbconvert_exporter": "python",
      "pygments_lexer": "ipython3",
      "version": "3.7.6"
    },
    "colab": {
      "name": "8Puzzle_Astar,bfs,dfs,bestfs,gbfs.ipynb",
      "provenance": [],
      "collapsed_sections": [
        "v9BNXHz9jusv",
        "EBvacnhmyY6L"
      ]
    }
  },
  "cells": [
    {
      "cell_type": "markdown",
      "metadata": {
        "id": "y8-CVXoTjur3"
      },
      "source": [
        "# A.I. Lab - 3"
      ]
    },
    {
      "cell_type": "markdown",
      "metadata": {
        "id": "6n2y14MIjusf"
      },
      "source": [
        "### Heuristic Function"
      ]
    },
    {
      "cell_type": "markdown",
      "metadata": {
        "id": "JVRPea5Ojusg"
      },
      "source": [
        "cost_function = Manhattan Distance"
      ]
    },
    {
      "cell_type": "code",
      "metadata": {
        "id": "hiwCtsOBjush"
      },
      "source": [
        "def generate_heuristic(self):\n",
        "        self.heuristic=0\n",
        "        for num in range(1,9):\n",
        "            distance=abs(self.state.index(num) - self.goal_state.index(num))\n",
        "            i=int(distance/3)\n",
        "            j=int(distance%3)\n",
        "            self.heuristic=self.heuristic+i+j"
      ],
      "execution_count": null,
      "outputs": []
    },
    {
      "cell_type": "markdown",
      "source": [
        "###ManhattanDistance"
      ],
      "metadata": {
        "id": "FtEL6lBQu8dZ"
      }
    },
    {
      "cell_type": "code",
      "source": [
        "def ManhattanDistance(state):\n",
        "      goal_state = [1,2,3,\n",
        "                  8,0,4,\n",
        "                  7,6,5]\n",
        "      heuristic = 0\n",
        "      for i in range(len(goal_state)):\n",
        "        ind = list(goal_state).index(state[i])\n",
        "        if (ind != i):\n",
        "          row_goal = int(i/3)\n",
        "          row_ini = int(ind/3)\n",
        "          col_goal = i%3\n",
        "          col_ini = ind%3\n",
        "          heuristic = heuristic + abs(row_goal - row_ini) + abs(col_goal - col_ini)\n",
        "     #print(heuristic)\n",
        "\n",
        "state = [0,1,3,\n",
        "         8,2,4,\n",
        "          7,6,5]\n",
        "ManhattanDistance(state)                "
      ],
      "metadata": {
        "colab": {
          "base_uri": "https://localhost:8080/"
        },
        "id": "yMrh9l5GuSZ5",
        "outputId": "ab1412f3-fa5f-4c2c-98d8-d1396bbd3d0b"
      },
      "execution_count": null,
      "outputs": [
        {
          "output_type": "stream",
          "name": "stdout",
          "text": [
            "4\n"
          ]
        }
      ]
    },
    {
      "cell_type": "markdown",
      "metadata": {
        "id": "MjIrPHlZjusl"
      },
      "source": [
        "### Combining it all "
      ]
    },
    {
      "cell_type": "code",
      "metadata": {
        "id": "bHef_uGDjusm"
      },
      "source": [
        "class Puzzle:\n",
        "    goal_state = [1,2,3,\n",
        "                  8,0,4,\n",
        "                  7,6,5]\n",
        "    heuristic=None #estimated cost\n",
        "    g=None        #actual cost\n",
        "    f=None # f=g=h total heuristic\n",
        "    needs_hueristic=True\n",
        "    num_of_instances=0\n",
        "    def __init__(self,state,parent,action,g=0,needs_hueristic=True): ##g=0 will be for root  and,,, g=1 as every child created would be one step away form parent\n",
        "        self.parent=parent\n",
        "        self.state=state\n",
        "        self.action=action\n",
        "        if parent:\n",
        "            self.g = parent.g + g\n",
        "        else:\n",
        "            self.g = g\n",
        "        if needs_hueristic:\n",
        "            self.needs_hueristic=True\n",
        "            self.ManhattanDistance() # calculates estimated distance i.e self.heuristic\n",
        "            self.f=self.heuristic+self.g  #adding totatl heuristic cost f=g+h\n",
        "        Puzzle.num_of_instances+=1\n",
        "\n",
        "    def __str__(self):\n",
        "        return str(self.state[0:3])+'\\n'+str(self.state[3:6])+'\\n'+str(self.state[6:9])\n",
        "\n",
        "    def generate_heuristic(self):\n",
        "        self.heuristic=0\n",
        "        for num in range(1,9):\n",
        "            distance=abs(self.state.index(num) - self.goal_state.index(num))\n",
        "            i=int(distance/3)\n",
        "            j=int(distance%3)\n",
        "            self.heuristic=self.heuristic+i+j\n",
        "\n",
        "    def ManhattanDistance(self):\n",
        "      self.heuristic = 0\n",
        "      for i in range(len(self.goal_state)):\n",
        "        ind = list(self.goal_state).index(self.state[i])\n",
        "        if (ind != i):\n",
        "          row_goal = int(i/3)\n",
        "          row_ini = int(ind/3)\n",
        "          col_goal = i%3\n",
        "          col_ini = ind%3\n",
        "          self.heuristic = self.heuristic + abs(row_goal - row_ini) + abs(col_goal - col_ini)\n",
        "      \n",
        "\n",
        "    def goal_test(self):\n",
        "        if self.state == self.goal_state:\n",
        "            return True\n",
        "        return False\n",
        "\n",
        "    @staticmethod\n",
        "    def find_legal_actions(i,j):\n",
        "        legal_action = ['U', 'D', 'L', 'R']\n",
        "        if i == 0:  # up is disable\n",
        "            legal_action.remove('U')\n",
        "        elif i == 2:  # down is disable\n",
        "            legal_action.remove('D')\n",
        "        if j == 0:\n",
        "            legal_action.remove('L')\n",
        "        elif j == 2:\n",
        "            legal_action.remove('R')\n",
        "        return legal_action\n",
        "\n",
        "\n",
        "    def MisplacedTiles(self):\n",
        "      self.heuristic = 0\n",
        "      for i in range(len(self.goal_state)):\n",
        "        if self.goal_state[i] != self.state[i]:\n",
        "          self.heuristic = self.heuristic + 1\n",
        "\n",
        "\n",
        "    def generate_child(self):\n",
        "        children=[]\n",
        "        x = self.state.index(0)\n",
        "        i = int(x / 3)\n",
        "        j = int(x % 3)\n",
        "        legal_actions=self.find_legal_actions(i,j)\n",
        "\n",
        "        for action in legal_actions:\n",
        "            new_state = self.state.copy()\n",
        "            if action is 'U':\n",
        "                new_state[x], new_state[x-3] = new_state[x-3], new_state[x]\n",
        "            elif action is 'D':\n",
        "                new_state[x], new_state[x+3] = new_state[x+3], new_state[x]\n",
        "            elif action is 'L':\n",
        "                new_state[x], new_state[x-1] = new_state[x-1], new_state[x]\n",
        "            elif action is 'R':\n",
        "                new_state[x], new_state[x+1] = new_state[x+1], new_state[x]            \n",
        "            children.append(Puzzle(new_state,self,action,1,self.needs_hueristic)) ## passing g=1\n",
        "        return children\n",
        "\n",
        "    def find_solution(self):\n",
        "        solution = []\n",
        "        solution.append(self.action)\n",
        "        path = self\n",
        "        while path.parent != None:\n",
        "            path = path.parent\n",
        "            solution.append(path.action)\n",
        "        solution = solution[:-1]\n",
        "        solution.reverse()\n",
        "        return solution"
      ],
      "execution_count": null,
      "outputs": []
    },
    {
      "cell_type": "markdown",
      "metadata": {
        "id": "v9BNXHz9jusv"
      },
      "source": [
        "### Using above Class in Breadth First Search (ManhattanDistance)"
      ]
    },
    {
      "cell_type": "code",
      "metadata": {
        "id": "m3Lgu6rujusw",
        "colab": {
          "base_uri": "https://localhost:8080/"
        },
        "outputId": "4518baf1-8373-47ee-8d8d-2e8a0c34e92f"
      },
      "source": [
        "from queue import Queue\n",
        "\n",
        "def breadth_first_search(initial_state):\n",
        "    start_node = Puzzle(initial_state, None, None,0 )\n",
        "    if start_node.goal_test():\n",
        "        return start_node.find_solution()\n",
        "    q = Queue()\n",
        "    q.put(start_node)\n",
        "    explored=[]\n",
        "    while not(q.empty()):\n",
        "        node=q.get()\n",
        "        explored.append(node.state)\n",
        "        children=node.generate_child()\n",
        "        for child in children:\n",
        "            if child.state not in explored:\n",
        "                if child.goal_test():\n",
        "                    return child.find_solution()\n",
        "                q.put(child)\n",
        "    return\n",
        "state=[1, 3, 4, \n",
        "        8, 6, 2, \n",
        "        7, 0, 5]\n",
        "breadth_first_search(state)"
      ],
      "execution_count": null,
      "outputs": [
        {
          "output_type": "execute_result",
          "data": {
            "text/plain": [
              "['U', 'R', 'U', 'L', 'D']"
            ]
          },
          "metadata": {},
          "execution_count": 4
        }
      ]
    },
    {
      "cell_type": "markdown",
      "source": [
        "###Best First Search (Manhattan Distance)"
      ],
      "metadata": {
        "id": "bqTYkhcJvbVa"
      }
    },
    {
      "cell_type": "code",
      "source": [
        "# best first search using stack\n",
        "def best_first_search(initial_state):\n",
        "    start_node = Puzzle(initial_state, None, None, 1)\n",
        "    if start_node.goal_test():\n",
        "        return start_node.find_solution()\n",
        "    q=[] \n",
        "    \n",
        "    q.append(start_node) \n",
        "    explored=[]\n",
        "    while not(len(q)<=0):\n",
        "        node=q.pop()\n",
        "        explored.append(node.state)\n",
        "        children=node.generate_child()\n",
        "        for child in children:\n",
        "            if child.state not in explored:\n",
        "                if child.goal_test():\n",
        "                    return child.find_solution()\n",
        "\n",
        "      # arranging children in descending order so that small value of heuristic is appended at last\n",
        "     #as  stack is implemented and will pick last value first\n",
        "        for i in range(len(children)):\n",
        "          for j in range(i,len(children)):\n",
        "            if children[i].heuristic < children[j].heuristic:\n",
        "              temp  = children[i]\n",
        "              children[i] = children[j]\n",
        "              children[j] = temp\n",
        "        bestchild=children.pop() #getting and adding the last child as it is the smallest in stack\n",
        "        if bestchild.state not in explored:\n",
        "            q.append(child)\n",
        "            \n",
        "           \n",
        "            \n",
        "    return False\n",
        "# state=[0,1,3,\n",
        "#                   8,2,4,\n",
        "#                   7,6,5]\n",
        "\n",
        "# best_first_search(state)"
      ],
      "metadata": {
        "id": "Jk5Yf752iFFQ"
      },
      "execution_count": null,
      "outputs": []
    },
    {
      "cell_type": "markdown",
      "source": [
        "###DFS"
      ],
      "metadata": {
        "id": "NyXWUZJ0vMmp"
      }
    },
    {
      "cell_type": "code",
      "source": [
        "def Depth_first_search(initial_state):\n",
        "  start_node= Puzzle(initial_state, None, None, 0)\n",
        "  if start_node.goal_test():\n",
        "    return start_node.find_solution()\n",
        "  q=[] \n",
        "  q.append(start_node) \n",
        "  explored=[]\n",
        "  while (len(q)>0):\n",
        "    last_node = q.pop()\n",
        "    explored.append(last_node.state) \n",
        "    children=last_node.generate_child()\n",
        "    for child in children:\n",
        "        if child.state not in explored:\n",
        "            if child.goal_test():\n",
        "                return child.find_solution()\n",
        "            q.append(child)\n",
        "  return False\n",
        "\n"
      ],
      "metadata": {
        "id": "2R8fMt6qQtb6"
      },
      "execution_count": null,
      "outputs": []
    },
    {
      "cell_type": "markdown",
      "source": [
        "####Sorting heuristic code check"
      ],
      "metadata": {
        "id": "EBvacnhmyY6L"
      }
    },
    {
      "cell_type": "code",
      "source": [
        "children=[2,1,4,3]\n",
        "for i in range(len(children)):\n",
        "          for j in range(len(children)):\n",
        "            if children[i] < children[j]:\n",
        "              temp  = children[i]\n",
        "              children[i] = children[j]\n",
        "              children[j] = temp\n",
        "print(children)\n",
        "for i in range(len(children)):\n",
        "          for j in range(i,len(children)): \n",
        "           # print(i,children[i])\n",
        "            #print(j,children[j])    # arranging children in descending order so that small value of heuristic is appended at last \n",
        "            if children[i] < children[j]: #as it is stack and will pick lasst value first\n",
        "              temp  = children[i]\n",
        "              children[i] = children[j]\n",
        "              children[j] = temp\n",
        "              \n",
        "print(children)"
      ],
      "metadata": {
        "colab": {
          "base_uri": "https://localhost:8080/"
        },
        "id": "WyT1wbf_wg3U",
        "outputId": "1c8fee78-8487-4e2f-8811-43df58cd6e6d"
      },
      "execution_count": null,
      "outputs": [
        {
          "output_type": "stream",
          "name": "stdout",
          "text": [
            "[1, 2, 3, 4]\n",
            "[4, 3, 2, 1]\n"
          ]
        }
      ]
    },
    {
      "cell_type": "markdown",
      "source": [
        "####A star search"
      ],
      "metadata": {
        "id": "jCcv-EeXuupl"
      }
    },
    {
      "cell_type": "code",
      "source": [
        "def A_Star_search(initial_state):\n",
        "    start_node = Puzzle(initial_state, None, None,0, 1)\n",
        "    if start_node.goal_test():\n",
        "        return start_node.find_solution()\n",
        "    q=[] \n",
        "    q.append(start_node) # get the root node\n",
        "    explored=[]\n",
        "    while not(len(q)<=0):\n",
        "        node=q[0] # pick the first node\n",
        "        current_index=0\n",
        "        for index, item in enumerate(q): # we pick the node with lowest heuristic\n",
        "            if item.f < node.f:           #if f=g+h total heuristic cost of any item is less than currect selected node then get that node\n",
        "                node = item\n",
        "                current_index = index\n",
        "\n",
        "        q.pop(current_index) # delete the selected node because we are going to visit it\n",
        "        explored.append(node.state) # add it to explored/visited list\n",
        "        if node.goal_test(): # check if this node is required answer \n",
        "              return node.find_solution()\n",
        "  \n",
        "        children=node.generate_child()\n",
        "        for child in children:\n",
        "            if child.state not in explored:\n",
        "                if child.goal_test():\n",
        "                    return child.find_solution()\n",
        "                q.append(child)    \n",
        "    return False\n",
        "# state=[0,1,3,\n",
        "#                    8,2,4,\n",
        "#                    7,6,5]\n",
        "\n",
        "# A_Star_search(state)"
      ],
      "metadata": {
        "colab": {
          "base_uri": "https://localhost:8080/"
        },
        "id": "lU2m8C9_u02p",
        "outputId": "5558ddc5-c4fb-4dfe-ccd3-a61b5fdb07dd"
      },
      "execution_count": null,
      "outputs": [
        {
          "output_type": "execute_result",
          "data": {
            "text/plain": [
              "['R', 'D']"
            ]
          },
          "metadata": {},
          "execution_count": 19
        }
      ]
    },
    {
      "cell_type": "markdown",
      "source": [
        "###GlobalbestFirst search"
      ],
      "metadata": {
        "id": "RC7GyNVVvQz0"
      }
    },
    {
      "cell_type": "code",
      "source": [
        "from queue import Queue\n",
        "\n",
        "\n",
        "def global_best_first_search(initial_state):\n",
        "    start_node = Puzzle(initial_state, None, None, 1)\n",
        "    if start_node.goal_test():\n",
        "        return start_node.find_solution()\n",
        "    q = Queue()\n",
        "    q.put(start_node)\n",
        "    explored=[]\n",
        "    while not(q.empty()):\n",
        "        node=q.get()\n",
        "        \n",
        "        explored.append(node.state)\n",
        "        children=node.generate_child()\n",
        "        for child in children:\n",
        "            if child.state not in explored:\n",
        "                if child.goal_test():\n",
        "                    return child.find_solution()\n",
        "      \n",
        "        for i in range(len(children)):\n",
        "          for j in range(len(children)):\n",
        "            if children[i].heuristic > children[j].heuristic: #arrange in ascending order , cause using queue so need first value need to be small\n",
        "              temp  = children[i]\n",
        "              children[i] = children[j]\n",
        "              children[j] = temp\n",
        "\n",
        "        for child in children:\n",
        "            if child.state not in explored:\n",
        "                q.put(child)\n",
        "    return\n"
      ],
      "metadata": {
        "id": "TG9B4EARA-pb"
      },
      "execution_count": null,
      "outputs": []
    },
    {
      "cell_type": "markdown",
      "metadata": {
        "id": "J0XKBlhYjusy"
      },
      "source": [
        "### Main Function"
      ]
    },
    {
      "cell_type": "code",
      "metadata": {
        "id": "Wri5sapljusy",
        "colab": {
          "base_uri": "https://localhost:8080/"
        },
        "outputId": "bcc282ab-a304-4111-d4bb-e2928ceff31d"
      },
      "source": [
        "from time import time\n",
        "import operator\n",
        "state=[\n",
        "       [8,1,3,\n",
        "        7,2,4,\n",
        "        0,6,5],\n",
        "       #[1, 3, 4, \n",
        "        #8, 6, 2, \n",
        "        #7, 0, 5],\n",
        "\n",
        "       [2, 8, 1,\n",
        "        0, 4, 3,\n",
        "        7, 6, 5],\n",
        "\n",
        "       [2, 8, 1,\n",
        "        4, 6, 3,\n",
        "        0, 7, 5]\n",
        "      ]\n",
        "      ####1) Created two dictionaries which stores the time and space complexity respectively, \n",
        "      ##### we will use these dictionaries to compare values of only comeplete \n",
        "      ####2) Only if solution is Comeplete we will update values in dictionaries\n",
        "      ####3) Initial Values set to 0 so at the end which ever value is still zero will be removed from the dictionaries\n",
        "timedic={\"bfs_time\":0, ##bfs->breadthFirst search\n",
        "         \"dfs_time\":0,\n",
        "         \"bestfs_time\":0,\n",
        "         \"GBfs_time\":0,\n",
        "         \"asf_time\":0,\n",
        "        }\n",
        "spacedic={\"bfs_space\":0,\n",
        "         \"dfs_space\":0,\n",
        "         \"bestfs_space\":0,\n",
        "         \"GBfs_space\":0,\n",
        "          \"asf_space\":0,\n",
        "        }\n",
        "print(\"We can see the Comparison in Following Table\")\n",
        "print(\"Breadth_FirstSearch:\\t\",end=\"\")\n",
        "for i in range(0,3):\n",
        "    c=False\n",
        "    Puzzle.num_of_instances=0\n",
        "    t0 = time()\n",
        "    bfs = breadth_first_search(state[i])\n",
        "    t1 = time()\n",
        "    \n",
        "    if(bfs):\n",
        "      print('Compelete  ',end =\"\")\n",
        "      c=True\n",
        "    else:\n",
        "      print(\"InCompelete\",end=\"\")  \n",
        "    print(' space:',Puzzle.num_of_instances,end =\" \")\n",
        "    if(c):\n",
        "      timedic.update({\"bfs_time\": t1})\n",
        "      \n",
        "      spacedic.update({\"bfs_space\": Puzzle.num_of_instances})\n",
        "    print('time:',t1,\"\\t| \",end =\" \")\n",
        "\n",
        "\n",
        "\n",
        "print(\"\")\n",
        "print(\"Best___FirstSearch :\\t\",end=\"\")\n",
        "for i in range(0,3):\n",
        "    c=False\n",
        "    Puzzle.num_of_instances=0\n",
        "    t0 = time()\n",
        "    bfs = best_first_search(state[i])\n",
        "    t1 = time()-t0\n",
        "   \n",
        "    if(bfs):\n",
        "      print('Compelete  ',end =\"\")\n",
        "      c=True\n",
        "    else:\n",
        "      print(\"InCompelete\",end=\"\")  \n",
        "    print(' space:',Puzzle.num_of_instances,end =\" \")\n",
        "    if(c):\n",
        "      timedic.update({\"bestfs_time\": t1})\n",
        "      \n",
        "      spacedic.update({\"bestfs_space\": Puzzle.num_of_instances})\n",
        "    print('time:',t1,\"\\t| \",end =\" \")\n",
        "\n",
        "print(\"\")\n",
        "print(\"Global_bestFSearch :\\t\",end=\"\")\n",
        "for i in range(0,3):\n",
        "    c=False\n",
        "    Puzzle.num_of_instances=0\n",
        "    t0 = time()\n",
        "    bfs = global_best_first_search(state[i])\n",
        "    t1 = time()-t0\n",
        "    \n",
        "    if(bfs):\n",
        "      print('Compelete  ',end =\"\")\n",
        "      c=True\n",
        "    else:\n",
        "      print(\"InCompelete\",end=\"\")  \n",
        "    print(' space:',Puzzle.num_of_instances,end =\" \")\n",
        "    if(c):\n",
        "      timedic.update({\"GBfs_time\": t1})\n",
        "      \n",
        "      spacedic.update({\"GBfs_space\": Puzzle.num_of_instances})\n",
        "    print('time:',t1,\"\\t| \",end =\" \")\n",
        "\n",
        "print(\"\")\n",
        "print(\"Depth_FirstSearch :\\t\",end=\"\")\n",
        "for i in range(0,1): ####### limited to one state or it takes too much time to give output\n",
        "    c=False\n",
        "    Puzzle.num_of_instances=0\n",
        "    t0 = time()\n",
        "    bfs = Depth_first_search(state[i])\n",
        "    t1 = time()-t0\n",
        "   \n",
        "    if(bfs):\n",
        "      print('Compelete  ',end =\"\") ####kindly, ignore the answer of dfs on total time and space on comparison\n",
        "      c=True\n",
        "    else:\n",
        "      print(\"InCompelete\",end=\"\")  \n",
        "    print(' space:',Puzzle.num_of_instances,end =\" \")\n",
        "    if(c):\n",
        "      timedic.update({\"dfs_time\": t1})\n",
        "      \n",
        "      spacedic.update({\"dfs_space\": Puzzle.num_of_instances})\n",
        "    print('time:',t1,\"\\t| \",end =\" \")\n",
        "print(\"\")\n",
        "############ A Starrr Search##############\n",
        "print(\"A* Star search :\\t\",end=\"\")\n",
        "for i in range(0,3):\n",
        "    c=False\n",
        "    Puzzle.num_of_instances=0\n",
        "    t0 = time()\n",
        "    asf = A_Star_search(state[i])\n",
        "    t1 = time()-t0 \n",
        "    if(asf):\n",
        "      print('Compelete  ',end =\"\")\n",
        "      c=True\n",
        "    else:\n",
        "      print(\"InCompelete\",end=\"\")  \n",
        "    print(' space:',Puzzle.num_of_instances,end =\" \")\n",
        "    if(c):\n",
        "      timedic.update({\"asf_time\": t1}) \n",
        "      spacedic.update({\"asf_space\": Puzzle.num_of_instances})\n",
        "    print('time:',t1,\"\\t| \",end =\" \")\n",
        "  \n",
        "print(\"\")\n",
        "print(\"\")\n",
        "  #     ------------ seraches end here--------------\n",
        "##\n",
        "##      -\n",
        "### Arranging with repect to time and space compelexity\n",
        "###\n",
        "##\n",
        "listr=[]\n",
        "for key in timedic: #removing time of incomepelte algos\n",
        "  if(timedic[key]==0):\n",
        "    listr.append(key)\n",
        "for i in listr:\n",
        "  timedic.pop(i)\n",
        "print(\"*****************Arranging in order of best to worse total-time to solve all three problems of only comeplete solutions*******************\")\n",
        "sorted_t = sorted(timedic.items(), key=operator.itemgetter(1))\n",
        "\n",
        "print(sorted_t)\n",
        "print(\"\")\n",
        "print(\"\")\n",
        "listr=[]\n",
        "for key in spacedic: ## removing space of incompelete \n",
        "  if(spacedic[key]==0):\n",
        "    listr.append(key)\n",
        "for i in listr:\n",
        "  spacedic.pop(i)\n",
        "print(\"#################Arranging in order of best to worse total-space to solve all three problems comeplete solutions#################\")\n",
        "sorted_s = sorted(spacedic.items(), key=operator.itemgetter(1))\n",
        "print(sorted_s)"
      ],
      "execution_count": null,
      "outputs": [
        {
          "output_type": "stream",
          "name": "stdout",
          "text": [
            "We can see the Comparison in Following Table\n",
            "Breadth_FirstSearch:\tCompelete   space: 24 time: 1648562722.1664817 \t|  Compelete   space: 591 time: 1648562722.181205 \t|  Compelete   space: 2956 time: 1648562722.2838488 \t|  \n",
            "Best___FirstSearch :\tInCompelete space: 8 time: 0.00014281272888183594 \t|  InCompelete space: 11 time: 0.00019240379333496094 \t|  InCompelete space: 8 time: 0.0001404285430908203 \t|  \n",
            "Global_bestFSearch :\tCompelete   space: 36 time: 0.0006940364837646484 \t|  Compelete   space: 687 time: 0.019232988357543945 \t|  Compelete   space: 3265 time: 0.21051859855651855 \t|  \n",
            "Depth_FirstSearch :\tCompelete   space: 91 time: 0.001363992691040039 \t|  \n",
            "A* Star search :\tCompelete   space: 11 time: 0.00018835067749023438 \t|  Compelete   space: 50 time: 0.0006892681121826172 \t|  Compelete   space: 79 time: 0.0010707378387451172 \t|  \n",
            "\n",
            "*****************Arranging in order of best to worse total-time to solve all three problems of only comeplete solutions*******************\n",
            "[('asf_time', 0.0010707378387451172), ('dfs_time', 0.001363992691040039), ('GBfs_time', 0.21051859855651855), ('bfs_time', 1648562722.2838488)]\n",
            "\n",
            "\n",
            "#################Arranging in order of best to worse total-space to solve all three problems comeplete solutions#################\n",
            "[('asf_space', 79), ('dfs_space', 91), ('bfs_space', 2956), ('GBfs_space', 3265)]\n"
          ]
        }
      ]
    },
    {
      "cell_type": "code",
      "source": [
        ""
      ],
      "metadata": {
        "id": "sMxy03K3gtyh"
      },
      "execution_count": null,
      "outputs": []
    },
    {
      "cell_type": "code",
      "source": [
        ""
      ],
      "metadata": {
        "id": "M59Ie7tLgt0_"
      },
      "execution_count": null,
      "outputs": []
    },
    {
      "cell_type": "code",
      "source": [
        ""
      ],
      "metadata": {
        "id": "bJrJs0gxgt3X"
      },
      "execution_count": null,
      "outputs": []
    },
    {
      "cell_type": "code",
      "source": [
        ""
      ],
      "metadata": {
        "id": "X3AOl00qgt6u"
      },
      "execution_count": null,
      "outputs": []
    }
  ]
}